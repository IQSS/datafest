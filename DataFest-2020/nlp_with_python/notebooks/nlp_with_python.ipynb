{
 "cells": [
  {
   "cell_type": "markdown",
   "metadata": {
    "colab_type": "text",
    "id": "NPyIiZmJlYiM"
   },
   "source": [
    "# Natural Language Processing with Python\n",
    "### Harvard DataFest 2020\n",
    "\n",
    "Elizabeth Piette, PhD MPH\n",
    "\n",
    "Statistician/Data Scientist\n",
    "\n",
    "Research Computing Services, DRFD, Harvard Business School\n",
    "\n",
    "617-495-1226\n",
    "\n",
    "epiette@hbs.edu"
   ]
  },
  {
   "cell_type": "markdown",
   "metadata": {},
   "source": [
    "# Introductions\n",
    "\n",
    "Please share your name and a few words about your background.\n",
    "\n",
    "Why are you interested in this workshop?"
   ]
  },
  {
   "cell_type": "markdown",
   "metadata": {},
   "source": [
    "# What is natural language processing (NLP)?\n",
    "\n",
    "NLP is a field that focuses on how computers can be used to process, analyze, and represent **natural language**.\n",
    "\n",
    "A natural language is one that has evolved organically, as opposed to a language that has been constructed intentionally (such as a programming language like Python, or an auxiliary language like Esperanto).\n",
    "\n",
    "**Discussion: what makes natural language difficult to model?**\n",
    "\n",
    "A funny example: https://www.ling.upenn.edu/~beatrice/humor/headlines.html\n",
    "\n",
    "Over time, NLP has shifted from hand-written rules to machine learning algorithms. \n",
    "\n",
    "**Discussion: what are some of the advantages and disadvantages of rules-based versus machine learning approaches?**"
   ]
  },
  {
   "cell_type": "markdown",
   "metadata": {},
   "source": [
    "# How do we utilize NLP in our daily lives?\n",
    "\n",
    "Basically whenever we use text or speech to interact with computers, phones, or smart devices:\n",
    "\n",
    "* Search engines\n",
    "* Question answering chat bots\n",
    "* Autocorrect, autocomplete\n",
    "* Virtual assistants\n",
    "* Machine translation"
   ]
  },
  {
   "cell_type": "markdown",
   "metadata": {},
   "source": [
    "# Our motivating problem:\n",
    "\n",
    "Your best friend's birthday is next week, and you want to give her something she'll really appreciate.  You know she's read all of Emily Dickinson's poems and wishes there were more, so why not try writing a poem in Dickinson's style?\n",
    "\n",
    "After a few sad attempts, it's beginning to look like you're not much of a poet.  But you have been developing your Python skills and want to learn more about NLP... perhaps you could *generate* a poem?  This could be the perfect opportunity to make a thoughtful gift for your friend and develop some new skills at the same time!"
   ]
  },
  {
   "cell_type": "markdown",
   "metadata": {},
   "source": [
    "# Acquiring a corpus\n",
    "\n",
    "This is one of the most important parts of an NLP project, and should be informed by your task.\n",
    "\n",
    "Some questions you may ask yourself before you assemble your corpus:\n",
    "* Should our corpus texts come from a specific domain?  Words have different meanings in different contexts\n",
    "* Do the corpus documents consist of natural language, tables, lists, ...? How will I consolidate or separate these? Do I need to write custom parsers?\n",
    "* Does the text come from a database, word doc, pdf, web page, ...? Multiple sources?\n",
    "* Is there any meaningful text formatting - italics, bold, underline, ...? Should I utilize this, and how?\n",
    "* Do I need annotated data?  How will I define the annotation guidelines, and who will perform the annotation?\n",
    "\n",
    "**Discussion: what kind of corpora would we want for the applications above?**\n",
    "\n",
    "**Discussion: what would our ideal corpus look like?**"
   ]
  },
  {
   "cell_type": "markdown",
   "metadata": {},
   "source": [
    "# Loading necessary libraries"
   ]
  },
  {
   "cell_type": "code",
   "execution_count": null,
   "metadata": {
    "colab": {
     "base_uri": "https://localhost:8080/",
     "height": 156
    },
    "colab_type": "code",
    "id": "KURmpajZ_3Ql",
    "outputId": "f4ce9335-5078-4e2b-f5da-e8cce773cd8b"
   },
   "outputs": [],
   "source": [
    "import requests\n",
    "from bs4 import BeautifulSoup\n",
    "import unicodedata\n",
    "import re\n",
    "import nltk\n",
    "nltk.download('punkt')\n",
    "nltk.download('averaged_perceptron_tagger')\n",
    "import matplotlib.pyplot as plt\n",
    "import numpy as np\n",
    "import pandas as pd\n",
    "import random\n",
    "from IPython.display import Image"
   ]
  },
  {
   "cell_type": "markdown",
   "metadata": {},
   "source": [
    "# Scraping text from the web\n",
    "\n",
    "We're going to start our project in the way that many NLP projects start - by scraping web pages.\n",
    "\n",
    "First, we’ll compile a list of URLs for the pages we’d like to scrape to assemble our corpus:\n",
    "\n",
    "* Visit https://en.wikipedia.org/wiki/List_of_Emily_Dickinson_poems\n",
    "* Right-click a link in the table from the **First Line** column \n",
    "* Click **Inspect**\n",
    "* Links are defined in HTML using the **a** tag\n",
    "* The URL addresses of the links we want are in the **href** attribute\n",
    "* The **class** attribute distinguishes different categories of links\n",
    "* Use **requests** to get the page text and **BeautifulSoup** to get the URLs\n",
    "\n",
    "Requests documentation: https://requests.readthedocs.io/en/master/\n",
    "\n",
    "BeautifulSoup documentation: https://www.crummy.com/software/BeautifulSoup/bs4/doc/"
   ]
  },
  {
   "cell_type": "code",
   "execution_count": null,
   "metadata": {
    "colab": {
     "base_uri": "https://localhost:8080/",
     "height": 1000
    },
    "colab_type": "code",
    "id": "SHRUOy3xAGUq",
    "outputId": "f4aa1f72-50f1-4289-8510-c962514c5589"
   },
   "outputs": [],
   "source": [
    "dickinson_poems = 'https://en.wikipedia.org/wiki/List_of_Emily_Dickinson_poems'\n",
    "\n",
    "r = requests.get(dickinson_poems)\n",
    "\n",
    "soup = BeautifulSoup(r.text)\n",
    "print(soup.prettify())"
   ]
  },
  {
   "cell_type": "markdown",
   "metadata": {},
   "source": [
    "Now that we've identified how links are represented, let's take all of these links and put them in a list. We can do this using a **list comprehension**:"
   ]
  },
  {
   "cell_type": "code",
   "execution_count": null,
   "metadata": {},
   "outputs": [],
   "source": [
    "links = [link.get('href') for link in soup.findAll('a', {'class': 'extiw'})]"
   ]
  },
  {
   "cell_type": "markdown",
   "metadata": {
    "colab_type": "text",
    "id": "OnKc7-iLPpCg"
   },
   "source": [
    "It's always a good idea to look at your data as a sanity check, so let's peak at the first 10 and last 10 lines in our list of links:"
   ]
  },
  {
   "cell_type": "code",
   "execution_count": null,
   "metadata": {
    "colab": {
     "base_uri": "https://localhost:8080/",
     "height": 187
    },
    "colab_type": "code",
    "id": "opVNNmcAARZ6",
    "outputId": "12948677-ccd3-4bda-ff70-ac19f44c18e7"
   },
   "outputs": [],
   "source": [
    "links[:10]"
   ]
  },
  {
   "cell_type": "code",
   "execution_count": null,
   "metadata": {
    "colab": {
     "base_uri": "https://localhost:8080/",
     "height": 187
    },
    "colab_type": "code",
    "id": "M1yojNc9Ac8Z",
    "outputId": "409aa4a4-8b37-418c-9dc7-18fc72e9054b"
   },
   "outputs": [],
   "source": [
    "links[-10:]"
   ]
  },
  {
   "cell_type": "markdown",
   "metadata": {
    "colab_type": "text",
    "id": "jaNU24kvPzku"
   },
   "source": [
    "The last link isn't to a poem, so let's remove that:"
   ]
  },
  {
   "cell_type": "code",
   "execution_count": null,
   "metadata": {
    "colab": {},
    "colab_type": "code",
    "id": "LkYugnZXAgMy"
   },
   "outputs": [],
   "source": [
    "del links[-1]"
   ]
  },
  {
   "cell_type": "markdown",
   "metadata": {
    "colab_type": "text",
    "id": "wpJ6VCATQL4Q"
   },
   "source": [
    "Next, we'll visit each of these pages and extract the poem text:\n",
    "\n",
    "* Visit one of the links in the table, such as https://en.wikisource.org/wiki/A_Bee_his_burnished_Carriage\n",
    "* Right click the poem text and click **Inspect**\n",
    "* Identify the HTML tags and attributes for the element containing the poem\n",
    "* Write a function to scrape our desired corpus using **requests** and **BeautifulSoup**\n",
    "\n",
    "Here's the page content of the first link:"
   ]
  },
  {
   "cell_type": "code",
   "execution_count": null,
   "metadata": {
    "colab": {
     "base_uri": "https://localhost:8080/",
     "height": 1000
    },
    "colab_type": "code",
    "id": "lk48BRiRkTfl",
    "outputId": "6385b5b7-8638-4ce8-c140-086736ed39e3"
   },
   "outputs": [],
   "source": [
    "r = requests.get(links[0])\n",
    "\n",
    "soup = BeautifulSoup(r.text)\n",
    "\n",
    "soup"
   ]
  },
  {
   "cell_type": "markdown",
   "metadata": {
    "colab_type": "text",
    "id": "FGszv3aLQgTO"
   },
   "source": [
    "Now that we've found the appropriate tags associated with the poem, we can go ahead and grab the poem text:"
   ]
  },
  {
   "cell_type": "code",
   "execution_count": null,
   "metadata": {
    "colab": {
     "base_uri": "https://localhost:8080/",
     "height": 54
    },
    "colab_type": "code",
    "id": "Fau5NCYukkAF",
    "outputId": "ccf93b6d-52a9-46f1-b41e-92bc8e79396a"
   },
   "outputs": [],
   "source": [
    "poem = soup.find('div', {'class': 'poem'})\n",
    "poem.text"
   ]
  },
  {
   "cell_type": "markdown",
   "metadata": {
    "colab_type": "text",
    "id": "VlHsSsHcGdiv"
   },
   "source": [
    "The following cell combines the steps we performed above into a function that returns the scraped poems from the list of URLs. We'll skip calling this in the interest of time."
   ]
  },
  {
   "cell_type": "markdown",
   "metadata": {
    "colab": {},
    "colab_type": "code",
    "id": "YQOzGlYQGeZ-"
   },
   "source": [
    "```python\n",
    "def scrape_corpus(corpus_URLs: list) -> list:\n",
    "\n",
    "    \"\"\"\n",
    "    Takes our list of URLS\n",
    "    Returns a list of the poems scraped from those pages\n",
    "    \"\"\"\n",
    "\n",
    "    corpus = []\n",
    "\n",
    "    for link in corpus_URLs:\n",
    "        r = requests.get(link)\n",
    "        soup = BeautifulSoup(r.text)\n",
    "        poem = soup.find('div', {'class': 'poem'})\n",
    "            \n",
    "        if poem is not None:\n",
    "            corpus.append(poem.text)\n",
    "\n",
    "    return [unicodedata.normalize('NFKD', poem) for poem in corpus]\n",
    "\n",
    "corpus_texts = scrape_corpus(links)\n",
    "```"
   ]
  },
  {
   "cell_type": "markdown",
   "metadata": {
    "colab_type": "text",
    "id": "W3ZOaVmqN4SE"
   },
   "source": [
    "For those interested, this is how I saved the corpus:"
   ]
  },
  {
   "cell_type": "markdown",
   "metadata": {
    "colab": {},
    "colab_type": "code",
    "id": "kk6KJ4l7H9UH"
   },
   "source": [
    "```python\n",
    "joined_corpus = '\\p'.join(corpus_texts)\n",
    "\n",
    "with open('corpus.txt', 'w', encoding='utf-8') as f:\n",
    "    f.write(joined_corpus)\n",
    "```"
   ]
  },
  {
   "cell_type": "markdown",
   "metadata": {
    "colab_type": "text",
    "id": "O8uqTxP1G7Lc"
   },
   "source": [
    "Note that this doesn't do a perfect job of extracting the content we want - for example, some of the text we extracted has multiple versions of a given poem.  Encountering inconsistencies in page HTML formatting is very common in web scraping tasks. You can perform some manual or automated checks and cleaning as desired/as is feasible.  This is generally an iterative process.\n",
    "\n",
    "Now we'll just load the corpus I saved prior to this workshop:"
   ]
  },
  {
   "cell_type": "code",
   "execution_count": null,
   "metadata": {
    "colab": {
     "base_uri": "https://localhost:8080/",
     "height": 54
    },
    "colab_type": "code",
    "id": "__kGyJ0BL5kP",
    "outputId": "b3a89e40-e2d2-470e-9639-b9a8a223c122"
   },
   "outputs": [],
   "source": [
    "with open('../data/corpus.txt', 'r', encoding='utf-8') as f:\n",
    "    corpus_texts = f.read()\n",
    "\n",
    "corpus_texts = corpus_texts.split('\\p')\n",
    "\n",
    "corpus_texts[0]"
   ]
  },
  {
   "cell_type": "code",
   "execution_count": null,
   "metadata": {
    "colab": {
     "base_uri": "https://localhost:8080/",
     "height": 34
    },
    "colab_type": "code",
    "id": "jkjcVHojRK8N",
    "outputId": "dd95c1fa-099c-41fc-c1b0-6931cf0b67e5"
   },
   "outputs": [],
   "source": [
    "len(corpus_texts)"
   ]
  },
  {
   "cell_type": "markdown",
   "metadata": {
    "colab_type": "text",
    "id": "kRfg3SrdmLcE"
   },
   "source": [
    "# Pre-processing\n",
    "\n",
    "*Garbage in, garbage out*\n",
    "\n",
    "Pre-processing is going to turn the raw text we scraped from the web into **data**.\n",
    "\n",
    "Basic preprocessing often includes:\n",
    "* Tokenization\n",
    "* Removing capitalization\n",
    "* Stripping away tags\n",
    "* Removing accents/special characters\n",
    "* Removing punctuation\n",
    "* Removing/normalizing whitespace\n",
    "* Stemming/lemmatization\n",
    "* Removing stopwords\n",
    "\n",
    "Once again, the way in which you pre-process your data should be informed by your final application - there isn't a one-size-fits-all approach.  For example:\n",
    "* Capitalization may be informative (Apple vs. apple)\n",
    "* HTML tags may provide structural information/metadata we can use as features or to label data\n",
    "* Sentence tokenization may need to be performed differently for different types of texts, eg in social media texts there may be punctuation missing from the ends of sentences, but additional punctuation forming emojis :)\n",
    "* Word tokenization may also depend on the source text, eg in text formatted for newspapers there may be hyphens separating words between syllables across lines due to column formatting\n",
    "\n",
    "**Discussion: what types of pre-processing do you think would be more appropriate for our application?**"
   ]
  },
  {
   "cell_type": "markdown",
   "metadata": {},
   "source": [
    "For this workshop, we're going to lowercase all text, remove all punctuation, and perform line and word tokenization. Let's start by investigating the output each of these types of pre-processing separately.\n",
    "\n",
    "We can make our text lowercase using **.lower()**, which is a built in **String** method in Python. For example, let's lower everything in the first poem in our corpus:"
   ]
  },
  {
   "cell_type": "code",
   "execution_count": null,
   "metadata": {},
   "outputs": [],
   "source": [
    "corpus_texts[0].lower()"
   ]
  },
  {
   "cell_type": "markdown",
   "metadata": {},
   "source": [
    "We can remove punctuation using a **regular expression**. It's okay if you're not familiar with regular expressions yet, but you may want to learn more about them as you go forth in your NLP journey since they allow you to specify text search patterns.\n",
    "\n",
    "The code below finds all characters in our specified text (in this case, corpus_texts[0], the first poem) that are not \"word characters\" or whitespace, and substitutes them with an empty string."
   ]
  },
  {
   "cell_type": "code",
   "execution_count": null,
   "metadata": {},
   "outputs": [],
   "source": [
    "re.sub(r'[^\\w\\s]','', corpus_texts[0])"
   ]
  },
  {
   "cell_type": "markdown",
   "metadata": {},
   "source": [
    "**NLTK** is going to become your favorite tool, and is accompanied by an excellent book that you can work through to expand your repertoire far beyond what we can cover in the scope of this workshop.\n",
    "* https://www.nltk.org/\n",
    "* https://www.nltk.org/book/\n",
    "\n",
    "**NLTK** has a built in **sentence tokenizer**, but since our poems don't consist of sentences in the traditional sense, we can perform our own **line tokenization** by splitting on newlines:"
   ]
  },
  {
   "cell_type": "code",
   "execution_count": null,
   "metadata": {},
   "outputs": [],
   "source": [
    "corpus_texts[0].split('\\n')"
   ]
  },
  {
   "cell_type": "markdown",
   "metadata": {},
   "source": [
    "We can perform **word tokenization** using the **NLTK word tokenizer**:"
   ]
  },
  {
   "cell_type": "code",
   "execution_count": null,
   "metadata": {},
   "outputs": [],
   "source": [
    "from nltk import word_tokenize\n",
    "word_tokenize(corpus_texts[0])"
   ]
  },
  {
   "cell_type": "markdown",
   "metadata": {},
   "source": [
    "Now, let's write a function that combines our four preprocessing steps. "
   ]
  },
  {
   "cell_type": "code",
   "execution_count": null,
   "metadata": {
    "colab": {},
    "colab_type": "code",
    "id": "fHMETWnT2Ivy"
   },
   "outputs": [],
   "source": [
    "#Example solution:\n",
    "\n",
    "def preprocess_poem(poem: str) -> list:\n",
    "\n",
    "    \"\"\"\n",
    "    Takes a poem (as a single string)\n",
    "    Returns the poem lowercased, with punctuation removed, line and word tokenized\n",
    "    (as a list of lists, where each line is a list of words)\n",
    "    \"\"\"\n",
    "\n",
    "    poem = poem.lower()\n",
    "    poem = re.sub(r'[^\\w\\s]','', poem)\n",
    "    poem = poem.split('\\n')\n",
    "    poem = [word_tokenize(line) for line in poem]\n",
    "    \n",
    "    return poem"
   ]
  },
  {
   "cell_type": "markdown",
   "metadata": {
    "colab_type": "text",
    "id": "ZbJwDB5i4l4-"
   },
   "source": [
    "Writing docstrings makes life easier for others reading, reusing, and modifying your code (including future-you)"
   ]
  },
  {
   "cell_type": "code",
   "execution_count": null,
   "metadata": {
    "colab": {
     "base_uri": "https://localhost:8080/",
     "height": 119
    },
    "colab_type": "code",
    "id": "xYIfq_dN4Vxh",
    "outputId": "98658088-e5e2-4974-b9df-75f67693af14"
   },
   "outputs": [],
   "source": [
    "help(preprocess_poem)"
   ]
  },
  {
   "cell_type": "code",
   "execution_count": null,
   "metadata": {},
   "outputs": [],
   "source": [
    "preprocess_poem(corpus_texts[0])"
   ]
  },
  {
   "cell_type": "markdown",
   "metadata": {},
   "source": [
    "Looks pretty good! But let's also remove these extraneous empty lines:"
   ]
  },
  {
   "cell_type": "code",
   "execution_count": null,
   "metadata": {},
   "outputs": [],
   "source": [
    "def preprocess_poem(poem: str) -> list:\n",
    "\n",
    "    \"\"\"\n",
    "    Takes a poem (as a single string)\n",
    "    Returns the poem lowercased, with punctuation removed, line and word tokenized\n",
    "    (as a list of lists, where each line of the poem is a list of words)\n",
    "    \"\"\"\n",
    "\n",
    "    poem = poem.lower()\n",
    "    poem = re.sub(r'[^\\w\\s]','', poem)\n",
    "    poem = poem.split('\\n')\n",
    "    poem = [word_tokenize(line) for line in poem if line]\n",
    "    \n",
    "    return poem"
   ]
  },
  {
   "cell_type": "code",
   "execution_count": null,
   "metadata": {},
   "outputs": [],
   "source": [
    "preprocess_poem(corpus_texts[0])"
   ]
  },
  {
   "cell_type": "markdown",
   "metadata": {},
   "source": [
    "Great! Now let's apply our preprocessing to the entire corpus:"
   ]
  },
  {
   "cell_type": "code",
   "execution_count": null,
   "metadata": {},
   "outputs": [],
   "source": [
    "preprocessed_poems = [preprocess_poem(poem) for poem in corpus_texts]"
   ]
  },
  {
   "cell_type": "markdown",
   "metadata": {
    "colab_type": "text",
    "id": "62uDb3rSmYLk"
   },
   "source": [
    "# Exploring our data\n",
    "\n",
    "Now that we've performed some pre-processing, we can more readily explore our data. In order get some distributional statistics, it'll make our lives easier to first join the entire pre-processed corpus into one long list:"
   ]
  },
  {
   "cell_type": "code",
   "execution_count": null,
   "metadata": {},
   "outputs": [],
   "source": [
    "joined_lines = [line for poem in preprocessed_poems for line in poem]\n",
    "joined_corpus = [word for line in joined_lines for word in line]"
   ]
  },
  {
   "cell_type": "code",
   "execution_count": null,
   "metadata": {},
   "outputs": [],
   "source": [
    "joined_corpus[:10]"
   ]
  },
  {
   "cell_type": "markdown",
   "metadata": {},
   "source": [
    "Now we can do some basic counts:"
   ]
  },
  {
   "cell_type": "code",
   "execution_count": null,
   "metadata": {
    "colab": {
     "base_uri": "https://localhost:8080/",
     "height": 51
    },
    "colab_type": "code",
    "id": "y2iaxSX5myjd",
    "outputId": "4bb5e8d0-9046-4812-f5c7-aff569070783"
   },
   "outputs": [],
   "source": [
    "print('There are {} total words in the corpus'.format(len(joined_corpus)))\n",
    "print('There are {} unique words in the corpus'.format(len(set(joined_corpus))))"
   ]
  },
  {
   "cell_type": "markdown",
   "metadata": {},
   "source": [
    "We can also use **NLTK** to look at word frequencies. Let's take a look at the 10 most common words in our corpus:"
   ]
  },
  {
   "cell_type": "code",
   "execution_count": null,
   "metadata": {
    "colab": {
     "base_uri": "https://localhost:8080/",
     "height": 187
    },
    "colab_type": "code",
    "id": "-dV43QG_5qmW",
    "outputId": "53567125-1c3c-4cce-8595-38ed84edde2b"
   },
   "outputs": [],
   "source": [
    "from nltk.probability import FreqDist\n",
    "\n",
    "fdist = FreqDist(joined_corpus)\n",
    "\n",
    "fdist.most_common(10)"
   ]
  },
  {
   "cell_type": "markdown",
   "metadata": {
    "colab_type": "text",
    "id": "PeCPAT1K5vvh"
   },
   "source": [
    "The most common words in the corpus are not very exciting..."
   ]
  },
  {
   "cell_type": "code",
   "execution_count": null,
   "metadata": {
    "colab": {
     "base_uri": "https://localhost:8080/",
     "height": 68
    },
    "colab_type": "code",
    "id": "HG_Cu2Kc51q6",
    "outputId": "0836411a-3d06-49fd-fde2-daaa72f810b7"
   },
   "outputs": [],
   "source": [
    "from nltk.corpus import stopwords\n",
    "nltk.download('stopwords')\n",
    "\n",
    "english_stopwords = nltk.corpus.stopwords.words('english')\n",
    "english_stopwords[:10]"
   ]
  },
  {
   "cell_type": "markdown",
   "metadata": {},
   "source": [
    "Let's write a function to remove **stopwords**:"
   ]
  },
  {
   "cell_type": "code",
   "execution_count": null,
   "metadata": {
    "colab": {},
    "colab_type": "code",
    "id": "bb2wNNUJ6HkT"
   },
   "outputs": [],
   "source": [
    "def remove_nltk_stopwords(tokenized_corpus: list, stopwords: list) -> list:\n",
    "    \n",
    "    \"\"\"\n",
    "    Takes a list of tokens and a list of stopwords\n",
    "    Returns the list of tokens with stopwords removed\n",
    "    \"\"\"\n",
    "\n",
    "    return [token for token in tokenized_corpus if token not in stopwords]"
   ]
  },
  {
   "cell_type": "code",
   "execution_count": null,
   "metadata": {
    "colab": {
     "base_uri": "https://localhost:8080/",
     "height": 187
    },
    "colab_type": "code",
    "id": "yq2bLmid6Lo-",
    "outputId": "0281513f-573d-4624-db95-32f9a0bdd478"
   },
   "outputs": [],
   "source": [
    "joined_corpus_stopwords_removed = remove_nltk_stopwords(joined_corpus, english_stopwords)\n",
    "\n",
    "fdist = FreqDist(joined_corpus_stopwords_removed)\n",
    "\n",
    "fdist.most_common(10)"
   ]
  },
  {
   "cell_type": "markdown",
   "metadata": {
    "colab_type": "text",
    "id": "luUu66t56Y_M"
   },
   "source": [
    "These sound a bit more interesting to me!\n",
    "\n",
    "We can also plot word frequencies:"
   ]
  },
  {
   "cell_type": "code",
   "execution_count": null,
   "metadata": {
    "colab": {
     "base_uri": "https://localhost:8080/",
     "height": 307
    },
    "colab_type": "code",
    "id": "C33sbfm16n0M",
    "outputId": "4662cff2-28b2-4c1a-aa6d-2a138090aa22"
   },
   "outputs": [],
   "source": [
    "fdist.plot(30)"
   ]
  },
  {
   "cell_type": "markdown",
   "metadata": {
    "colab_type": "text",
    "id": "XLIjEWGW6zM0"
   },
   "source": [
    "Let's move on from single words to explore **combinations of words** - we can use **NLTK** for this as well:"
   ]
  },
  {
   "cell_type": "code",
   "execution_count": null,
   "metadata": {
    "colab": {
     "base_uri": "https://localhost:8080/",
     "height": 187
    },
    "colab_type": "code",
    "id": "FHgTHBuo6wlR",
    "outputId": "abc0a7ba-2621-4d7e-a9ef-b17f7ee5da58"
   },
   "outputs": [],
   "source": [
    "bigrams_list = list(nltk.bigrams(joined_corpus))\n",
    "fdist = FreqDist(bigrams_list)\n",
    "fdist.most_common(10)"
   ]
  },
  {
   "cell_type": "markdown",
   "metadata": {
    "colab_type": "text",
    "id": "rY2rBj9_7BWX"
   },
   "source": [
    "Once again, these are pretty boring... let's try again, with our corpus with stopwords removed:"
   ]
  },
  {
   "cell_type": "code",
   "execution_count": null,
   "metadata": {
    "colab": {
     "base_uri": "https://localhost:8080/",
     "height": 187
    },
    "colab_type": "code",
    "id": "Z-SqObAY7BCq",
    "outputId": "7f06c608-cfa6-44e6-d665-1c7fef521f88"
   },
   "outputs": [],
   "source": [
    "bigrams_list_stopwords_removed = list(nltk.bigrams(joined_corpus_stopwords_removed))\n",
    "fdist = FreqDist(bigrams_list_stopwords_removed)\n",
    "fdist.most_common(10)"
   ]
  },
  {
   "cell_type": "markdown",
   "metadata": {
    "colab_type": "text",
    "id": "BO3ntZ7u7cT0"
   },
   "source": [
    "These are much more poetic!"
   ]
  },
  {
   "cell_type": "code",
   "execution_count": null,
   "metadata": {
    "colab": {
     "base_uri": "https://localhost:8080/",
     "height": 369
    },
    "colab_type": "code",
    "id": "u6Pfne4c7ZJv",
    "outputId": "22ec5ea4-4909-4b8a-f6bf-50941e0ac2b7"
   },
   "outputs": [],
   "source": [
    "fdist.plot(30)"
   ]
  },
  {
   "cell_type": "markdown",
   "metadata": {},
   "source": [
    "Perhaps we're also interested in structural elements of our corpus poems, like the lines per poem and words per line. Let's write functions to count both of these:"
   ]
  },
  {
   "cell_type": "code",
   "execution_count": null,
   "metadata": {
    "colab": {},
    "colab_type": "code",
    "id": "cc4tys4aBqZp"
   },
   "outputs": [],
   "source": [
    "def count_lines_per_poem(line_word_tokenized_corpus: list) -> list:\n",
    "    \n",
    "    \"\"\"\n",
    "    Takes a list of line and word tokenized poems (list of lists of strings)\n",
    "    Returns a list of ints with the number of lines in each poem\n",
    "    \"\"\"\n",
    "    \n",
    "    return [len(poem) for poem in line_word_tokenized_corpus]"
   ]
  },
  {
   "cell_type": "code",
   "execution_count": null,
   "metadata": {
    "colab": {
     "base_uri": "https://localhost:8080/",
     "height": 336
    },
    "colab_type": "code",
    "id": "8rhquvMhBwTK",
    "outputId": "c0221674-db81-4f2a-e92e-daaa347ba9e8"
   },
   "outputs": [],
   "source": [
    "lines_per_poem = count_lines_per_poem(preprocessed_poems)\n",
    "pd.Series(lines_per_poem).plot(kind = 'hist', bins=50)"
   ]
  },
  {
   "cell_type": "code",
   "execution_count": null,
   "metadata": {
    "colab": {},
    "colab_type": "code",
    "id": "K8ZGDHZjB4Xy"
   },
   "outputs": [],
   "source": [
    "def count_words_per_line(line_word_tokenized_corpus: list) -> list:\n",
    "\n",
    "    \"\"\"\n",
    "    Takes a list of line and word tokenized poems (list of lists of strings)\n",
    "    Returns a list of ints with the number of words in each line\n",
    "    \"\"\"\n",
    "    \n",
    "    return [len(line) for poem in line_word_tokenized_corpus for line in poem]"
   ]
  },
  {
   "cell_type": "code",
   "execution_count": null,
   "metadata": {
    "colab": {
     "base_uri": "https://localhost:8080/",
     "height": 336
    },
    "colab_type": "code",
    "id": "41SxqcbPB7PT",
    "outputId": "089b4a23-b8c2-462e-fc2e-fda5c65f75bf"
   },
   "outputs": [],
   "source": [
    "words_per_line = count_words_per_line(preprocessed_poems)\n",
    "pd.Series(words_per_line).plot(kind = 'hist', bins=50)"
   ]
  },
  {
   "cell_type": "markdown",
   "metadata": {},
   "source": [
    "We can also look at what **parts of speech** are represented in our corpus:"
   ]
  },
  {
   "cell_type": "code",
   "execution_count": null,
   "metadata": {},
   "outputs": [],
   "source": [
    "from nltk import pos_tag\n",
    "pos_tag(joined_corpus[:10])"
   ]
  },
  {
   "cell_type": "markdown",
   "metadata": {},
   "source": [
    "Let's make a dictionary of words keyed by their part of speech, and vice versa - maybe these could be useful later?"
   ]
  },
  {
   "cell_type": "code",
   "execution_count": null,
   "metadata": {},
   "outputs": [],
   "source": [
    "corpus_pos_tagged = pos_tag(joined_corpus)"
   ]
  },
  {
   "cell_type": "code",
   "execution_count": null,
   "metadata": {},
   "outputs": [],
   "source": [
    "word_to_pos = {}\n",
    "\n",
    "for i in range(len(corpus_pos_tagged)):\n",
    "    if corpus_pos_tagged[i][0] in word_to_pos:\n",
    "        if corpus_pos_tagged[i][1] not in word_to_pos[corpus_pos_tagged[i][0]]:\n",
    "            word_to_pos[corpus_pos_tagged[i][0]].append(corpus_pos_tagged[i][1])\n",
    "    else:\n",
    "        word_to_pos[corpus_pos_tagged[i][0]] = [corpus_pos_tagged[i][1]]"
   ]
  },
  {
   "cell_type": "markdown",
   "metadata": {},
   "source": [
    "Words can be tagged as different parts of speech in different contexts:"
   ]
  },
  {
   "cell_type": "code",
   "execution_count": null,
   "metadata": {},
   "outputs": [],
   "source": [
    "word_to_pos['walk']"
   ]
  },
  {
   "cell_type": "code",
   "execution_count": null,
   "metadata": {},
   "outputs": [],
   "source": [
    "pos_to_word = {}\n",
    "corpus_pos_tagged_reversed = [(word, pos) for pos, word in corpus_pos_tagged]\n",
    "\n",
    "for i in range(len(corpus_pos_tagged_reversed)):\n",
    "    if corpus_pos_tagged_reversed[i][0] in pos_to_word:\n",
    "        if corpus_pos_tagged_reversed[i][1] not in pos_to_word[corpus_pos_tagged_reversed[i][0]]:\n",
    "            pos_to_word[corpus_pos_tagged_reversed[i][0]].append(corpus_pos_tagged_reversed[i][1])\n",
    "    else:\n",
    "        pos_to_word[corpus_pos_tagged_reversed[i][0]] = [corpus_pos_tagged_reversed[i][1]]\n",
    "\n",
    "#you could write a generic function to make either a word_to_pos or pos_to_word dictionary..."
   ]
  },
  {
   "cell_type": "code",
   "execution_count": null,
   "metadata": {},
   "outputs": [],
   "source": [
    "pos_to_word['NN']"
   ]
  },
  {
   "cell_type": "markdown",
   "metadata": {},
   "source": [
    "**NLTK** also has a nice function that lets you look at words that are **'similar'** to a given word, based on context:"
   ]
  },
  {
   "cell_type": "code",
   "execution_count": null,
   "metadata": {},
   "outputs": [],
   "source": [
    "joined_Text = nltk.Text(joined_corpus) #it's necessary to convert to a nltk.text.Text object\n",
    "joined_Text.similar('bee')"
   ]
  },
  {
   "cell_type": "markdown",
   "metadata": {},
   "source": [
    "It might also be quite useful to make a dictionary associating words that appear in similar contexts... but I'll leave that to you.\n",
    "\n",
    "**Discussion: what other statistics and visualizations would help us better understand our data?**"
   ]
  },
  {
   "cell_type": "markdown",
   "metadata": {
    "colab_type": "text",
    "id": "9Z223kUcnA5j"
   },
   "source": [
    "# Our first poetry generator\n",
    "\n",
    "Now let's combine our knowledge of the distribution of words in the corpus and the structure of the documents to make our first poem generator!  **NLTK** has many built-in functions that we can use, so we'll just take advantage of those.  First, we have to create a Vocabulary from our joined corpus:"
   ]
  },
  {
   "cell_type": "code",
   "execution_count": null,
   "metadata": {
    "colab": {
     "base_uri": "https://localhost:8080/",
     "height": 333
    },
    "colab_type": "code",
    "id": "76eyELEPnJ7z",
    "outputId": "52d9a138-70b2-4fbc-fbbf-5838db852342"
   },
   "outputs": [],
   "source": [
    "from nltk.lm import Vocabulary\n",
    "vocab = Vocabulary(joined_corpus, unk_cutoff=2)\n",
    "vocab['bee']"
   ]
  },
  {
   "cell_type": "markdown",
   "metadata": {},
   "source": [
    "Next, we'll pad the ends of each line with special tokens that do not appear elsewhere in our corpus, and format our text into bigrams:"
   ]
  },
  {
   "cell_type": "code",
   "execution_count": null,
   "metadata": {
    "colab": {
     "base_uri": "https://localhost:8080/",
     "height": 353
    },
    "colab_type": "code",
    "id": "UiA1n-QQMqm8",
    "outputId": "354ed67a-e9ff-4b61-ca1a-a7ac13229ee6"
   },
   "outputs": [],
   "source": [
    "from nltk.lm.preprocessing import pad_both_ends\n",
    "preprocessed_poems_lines_joined = [line for poem in preprocessed_poems for line in poem]\n",
    "padded_text = [list(nltk.bigrams(pad_both_ends(line, n=2))) for line in preprocessed_poems_lines_joined]\n",
    "padded_text[0]"
   ]
  },
  {
   "cell_type": "markdown",
   "metadata": {},
   "source": [
    "This command will actually perform these steps for us at once (but it was good of us to look at the output of each):"
   ]
  },
  {
   "cell_type": "code",
   "execution_count": null,
   "metadata": {
    "colab": {},
    "colab_type": "code",
    "id": "W6TDFFGpMxJN"
   },
   "outputs": [],
   "source": [
    "from nltk.lm.preprocessing import padded_everygram_pipeline\n",
    "train, vocab = padded_everygram_pipeline(2, preprocessed_poems_lines_joined)"
   ]
  },
  {
   "cell_type": "markdown",
   "metadata": {},
   "source": [
    "We'll now fit an MLE model:"
   ]
  },
  {
   "cell_type": "code",
   "execution_count": null,
   "metadata": {
    "colab": {},
    "colab_type": "code",
    "id": "aqjuWTzHM0c_"
   },
   "outputs": [],
   "source": [
    "from nltk.lm import MLE\n",
    "lm = MLE(2)\n",
    "lm.fit(train, vocab)"
   ]
  },
  {
   "cell_type": "markdown",
   "metadata": {
    "colab_type": "text",
    "id": "RJ5kZh1uNGy-"
   },
   "source": [
    "We can use this model to write a basic function to generate poetry:"
   ]
  },
  {
   "cell_type": "code",
   "execution_count": null,
   "metadata": {
    "colab": {},
    "colab_type": "code",
    "id": "4btr8Wm3M2UN"
   },
   "outputs": [],
   "source": [
    "def generate_poem() -> list:\n",
    "    \n",
    "    \"\"\"\n",
    "    Randomly select a number of lines from the distribution of lines per poem\n",
    "    For each line:\n",
    "    - randomly select a number of words from the distribution of words per line\n",
    "    - use the MLE model to generate a line containing the desired number of words\n",
    "    - replace end of sentence tags with dashes for ~flair~\n",
    "    \"\"\"\n",
    "    \n",
    "    generated_poem = []\n",
    "    num_lines = random.choice(lines_per_poem)\n",
    "    \n",
    "    for line in range(num_lines):\n",
    "        num_words = random.choice(words_per_line)\n",
    "\n",
    "        generated_line = re.sub('</s>', '-', re.sub(' +', ' ', ' '.join(re.split('<s>', ' '.join(lm.generate(num_words)))))).strip()\n",
    "      \n",
    "        generated_poem.append(generated_line)\n",
    "    \n",
    "    return generated_poem"
   ]
  },
  {
   "cell_type": "code",
   "execution_count": null,
   "metadata": {},
   "outputs": [],
   "source": [
    "generate_poem()"
   ]
  },
  {
   "cell_type": "markdown",
   "metadata": {
    "colab": {},
    "colab_type": "code",
    "id": "OAPSZh8NM5DW"
   },
   "source": [
    "Of course, this is a pretty lazy model, with many things we could improve. Instead of randomly generating the number of lines and words per line, we may want to directly use the structure of a poem in the corpus. Or we might chose to perform our preprocessing in a different manner so we don't lose and subsequently artificially reinsert dashes or exclamation points.  We could go on, and make many incremental improvements.\n",
    "\n",
    "**Discussion: what additional rules could improve our poetry generator?**\n",
    "\n",
    "One of the most critical flaws of our model is that it is **unidirectional**. Which leads us to..."
   ]
  },
  {
   "attachments": {
    "rnn.PNG": {
     "image/png": "[encoded data removed]"
    }
   },
   "cell_type": "markdown",
   "metadata": {
    "colab_type": "text",
    "id": "cyg84pRc8-VL"
   },
   "source": [
    "# Our second poetry generator\n",
    "\n",
    "Artificial neural networks are inspired by and structurally somewhat analogous to biological neural networks.\n",
    "\n",
    "Recurrent neural networks (RNNs) are particularly suited to sequential data (like text):\n",
    "\n",
    "![rnn.PNG](attachment:rnn.PNG)\n",
    "\n",
    "From http://www.deeplearningbook.org/contents/rnn.html"
   ]
  },
  {
   "cell_type": "markdown",
   "metadata": {},
   "source": [
    "The following code comes with very slight modifications from \"Minimal character-level Vanilla RNN model\" by Andrej Karpathy (@karpathy):\n",
    "*   https://gist.github.com/karpathy/d4dee566867f8291f086\n",
    "*   http://karpathy.github.io/2015/05/21/rnn-effectiveness/\n",
    "\n",
    "I really love this example because it's on the more approachable side for a beginner, it's convenient for the purposes of this workshop since we don't have time to explore Tensorflow/Keras, and it's informative since we can read through each chunk of code.  However, please don't feel as if you have to fully understand the content of each of the following code cells - we're just going to focus on concepts.\n",
    "\n",
    "Let's start by inputting our raw corpus without any pre-processing:"
   ]
  },
  {
   "cell_type": "code",
   "execution_count": null,
   "metadata": {},
   "outputs": [],
   "source": [
    "def data_input(corpus: list):\n",
    "    \n",
    "    \"\"\"\n",
    "    Takes a corpus as a list of strings\n",
    "    Returns the data prepared to be used in a word-based model (rather than char-based model used by Andrej Karpathy)\n",
    "    \"\"\"\n",
    "    \n",
    "    data = '\\n'.join(corpus)\n",
    "    data = re.split('(\\W)', data)\n",
    "    words = list(set(data))\n",
    "    vocab_size = len(words)\n",
    "        \n",
    "    return data, words, vocab_size"
   ]
  },
  {
   "cell_type": "code",
   "execution_count": null,
   "metadata": {},
   "outputs": [],
   "source": [
    "data, words, vocab_size = data_input(corpus_texts)\n",
    "\n",
    "print(data[:10])\n",
    "print(words[:10])\n",
    "print(vocab_size)"
   ]
  },
  {
   "cell_type": "markdown",
   "metadata": {},
   "source": [
    "Next we'll create dictionaries that map words to IDs, and IDs to words:"
   ]
  },
  {
   "cell_type": "code",
   "execution_count": null,
   "metadata": {},
   "outputs": [],
   "source": [
    "def gen_mapping(words_list: list) -> list:\n",
    "    \n",
    "    \"\"\"\n",
    "    Takes the prepared corpus data\n",
    "    Returns dictionaries mapping the words to IDs, and IDs to words\n",
    "    \"\"\"\n",
    "    \n",
    "    word_to_ix = {ch: i for i, ch in enumerate(words_list)}\n",
    "    ix_to_word = {i: ch for i, ch in enumerate(words_list)}\n",
    "    \n",
    "    return word_to_ix, ix_to_word"
   ]
  },
  {
   "cell_type": "code",
   "execution_count": null,
   "metadata": {},
   "outputs": [],
   "source": [
    "word_to_ix, ix_to_word = gen_mapping(words)\n",
    "\n",
    "print(word_to_ix['bee'])\n",
    "print(ix_to_word[100])"
   ]
  },
  {
   "cell_type": "markdown",
   "metadata": {},
   "source": [
    "Now we'll set our hyperparameters, which are defined prior to running the algorithm (as opposed to the model parameters, which are iteratively updated).  The learning rate is probably the most important hyperparameter to focus on, since it controls how much the weights are updated with each iteration.  A larger learning rate converges more quickly (perhaps overshooting minima), whereas a smaller learning rate converges more slowly (and may become stuck in a local minima)."
   ]
  },
  {
   "cell_type": "code",
   "execution_count": null,
   "metadata": {},
   "outputs": [],
   "source": [
    "def set_hyperparams(hidden_size: int = 100, seq_length: int = 25, learning_rate: int = 1e-1) -> int:\n",
    "    \n",
    "    \"\"\"\n",
    "    Sets hyperparameters, defaulting to Andrej Karpathy's values\n",
    "    \"\"\"\n",
    "    \n",
    "    return hidden_size, seq_length, learning_rate"
   ]
  },
  {
   "cell_type": "code",
   "execution_count": null,
   "metadata": {},
   "outputs": [],
   "source": [
    "hidden_size, seq_length, learning_rate = set_hyperparams()\n",
    "\n",
    "print(hidden_size)\n",
    "print(seq_length)\n",
    "print(learning_rate)"
   ]
  },
  {
   "cell_type": "markdown",
   "metadata": {},
   "source": [
    "Next we'll initialize placeholders for our model parameters:"
   ]
  },
  {
   "cell_type": "code",
   "execution_count": null,
   "metadata": {},
   "outputs": [],
   "source": [
    "def set_model_params(hidden_size: int, vocab_size: int):\n",
    "    \n",
    "    \"\"\"\n",
    "    Sets model parameters based on hyperparameters and vocab size\n",
    "    \"\"\"\n",
    "    \n",
    "    Wxh = np.random.randn(hidden_size, vocab_size) * 0.01  # input to hidden\n",
    "    Whh = np.random.randn(hidden_size, hidden_size) * 0.01  # hidden to hidden\n",
    "    Why = np.random.randn(vocab_size, hidden_size) * 0.01  # hidden to output\n",
    "    bh = np.zeros((hidden_size, 1))  # hidden bias\n",
    "    by = np.zeros((vocab_size, 1))  # output bias\n",
    "    \n",
    "    return Wxh, Whh, Why, bh, by"
   ]
  },
  {
   "cell_type": "code",
   "execution_count": null,
   "metadata": {},
   "outputs": [],
   "source": [
    "Wxh, Whh, Why, bh, by = set_model_params(hidden_size, vocab_size)\n",
    "\n",
    "print(Wxh)\n",
    "print(Whh)\n",
    "print(Why)\n",
    "print(bh)\n",
    "print(by)"
   ]
  },
  {
   "cell_type": "markdown",
   "metadata": {},
   "source": [
    "We then perform the forward pass, update the loss, and perform the backward pass:"
   ]
  },
  {
   "cell_type": "code",
   "execution_count": null,
   "metadata": {},
   "outputs": [],
   "source": [
    "def lossFun(inputs, targets, hprev):\n",
    "    \n",
    "    \"\"\"\n",
    "    inputs,targets are both list of integers.\n",
    "    hprev is Hx1 array of initial hidden state\n",
    "    returns the loss, gradients on model parameters, and last hidden state\n",
    "    \"\"\"\n",
    "    \n",
    "    xs, hs, ys, ps = {}, {}, {}, {}\n",
    "    hs[-1] = np.copy(hprev)\n",
    "    loss = 0\n",
    "    # forward pass\n",
    "    for t in range(len(inputs)):\n",
    "        xs[t] = np.zeros((vocab_size, 1))  # encode in 1-of-k representation\n",
    "        xs[t][inputs[t]] = 1\n",
    "        hs[t] = np.tanh(np.dot(Wxh, xs[t]) + np.dot(Whh, hs[t - 1]) + bh)  # hidden state\n",
    "        ys[t] = np.dot(Why, hs[t]) + by  # unnormalized log probabilities for next chars\n",
    "        ps[t] = np.exp(ys[t]) / np.sum(np.exp(ys[t]))  # probabilities for next chars\n",
    "        loss += -np.log(ps[t][targets[t], 0])  # softmax (cross-entropy loss)\n",
    "    # backward pass: compute gradients going backwards\n",
    "    dWxh, dWhh, dWhy = np.zeros_like(Wxh), np.zeros_like(Whh), np.zeros_like(Why)\n",
    "    dbh, dby = np.zeros_like(bh), np.zeros_like(by)\n",
    "    dhnext = np.zeros_like(hs[0])\n",
    "    for t in reversed(range(len(inputs))):\n",
    "        dy = np.copy(ps[t])\n",
    "        dy[targets[\n",
    "            t]] -= 1  # backprop into y. see http://cs231n.github.io/neural-networks-case-study/#grad if confused here\n",
    "        dWhy += np.dot(dy, hs[t].T)\n",
    "        dby += dy\n",
    "        dh = np.dot(Why.T, dy) + dhnext  # backprop into h\n",
    "        dhraw = (1 - hs[t] * hs[t]) * dh  # backprop through tanh nonlinearity\n",
    "        dbh += dhraw\n",
    "        dWxh += np.dot(dhraw, xs[t].T)\n",
    "        dWhh += np.dot(dhraw, hs[t - 1].T)\n",
    "        dhnext = np.dot(Whh.T, dhraw)\n",
    "    for dparam in [dWxh, dWhh, dWhy, dbh, dby]:\n",
    "        np.clip(dparam, -5, 5, out=dparam)  # clip to mitigate exploding gradients\n",
    "    return loss, dWxh, dWhh, dWhy, dbh, dby, hs[len(inputs) - 1]"
   ]
  },
  {
   "cell_type": "markdown",
   "metadata": {},
   "source": [
    "This function returns a sample from the model at a given time:"
   ]
  },
  {
   "cell_type": "code",
   "execution_count": null,
   "metadata": {},
   "outputs": [],
   "source": [
    "def sample(h, seed_ix, n):\n",
    "    \n",
    "    \"\"\"\n",
    "    sample a sequence of integers from the model\n",
    "    h is memory state, seed_ix is seed letter for first time step\n",
    "    \"\"\"\n",
    "    \n",
    "    x = np.zeros((vocab_size, 1))\n",
    "    x[seed_ix] = 1\n",
    "    ixes = []\n",
    "    for t in range(n):\n",
    "        h = np.tanh(np.dot(Wxh, x) + np.dot(Whh, h) + bh)\n",
    "        y = np.dot(Why, h) + by\n",
    "        p = np.exp(y) / np.sum(np.exp(y))\n",
    "        ix = np.random.choice(range(vocab_size), p=p.ravel())\n",
    "        x = np.zeros((vocab_size, 1))\n",
    "        x[ix] = 1\n",
    "        ixes.append(ix)\n",
    "    return ixes"
   ]
  },
  {
   "cell_type": "markdown",
   "metadata": {},
   "source": [
    "And finally we have a function that iterates through the model and periodically returns a sample:"
   ]
  },
  {
   "cell_type": "code",
   "execution_count": null,
   "metadata": {},
   "outputs": [],
   "source": [
    "def iterate_and_sample(sample_length: int = 200, sample_iters: int = 100, max_iters: int = 1000):\n",
    "    \n",
    "    \"\"\"\n",
    "    Putting it all together:\n",
    "    Prints a model sample of a given length (default 200)\n",
    "    at a given number of iterations (default 100)\n",
    "    up to a maximum number of iterations (default 1000)\n",
    "    \"\"\"\n",
    "    \n",
    "    n, p = 0, 0\n",
    "    mWxh, mWhh, mWhy = np.zeros_like(Wxh), np.zeros_like(Whh), np.zeros_like(Why)\n",
    "    mbh, mby = np.zeros_like(bh), np.zeros_like(by)  # memory variables for Adagrad\n",
    "    smooth_loss = -np.log(1.0 / vocab_size) * seq_length  # loss at iteration 0\n",
    "    while n <= max_iters:\n",
    "        # prepare inputs (we're sweeping from left to right in steps seq_length long)\n",
    "        if p + seq_length + 1 >= len(data) or n == 0:\n",
    "            hprev = np.zeros((hidden_size, 1))  # reset RNN memory\n",
    "            p = 0  # go from start of data\n",
    "        inputs = [word_to_ix[ch] for ch in data[p:p + seq_length]]\n",
    "        targets = [word_to_ix[ch] for ch in data[p + 1:p + seq_length + 1]]\n",
    "\n",
    "        # sample from the model now and then\n",
    "        if n % sample_iters == 0:\n",
    "            sample_ix = sample(hprev, inputs[0], sample_length)\n",
    "            txt = ''.join(ix_to_word[ix] for ix in sample_ix)\n",
    "            print('----\\n %s \\n----' % (txt,))\n",
    "\n",
    "        # forward seq_length characters through the net and fetch gradient\n",
    "        loss, dWxh, dWhh, dWhy, dbh, dby, hprev = lossFun(inputs, targets, hprev)\n",
    "        smooth_loss = smooth_loss * 0.999 + loss * 0.001\n",
    "        if n % sample_iters == 0: print('iter %d, loss: %f' % (n, smooth_loss))  # print progress\n",
    "\n",
    "        # perform parameter update with Adagrad\n",
    "        for param, dparam, mem in zip([Wxh, Whh, Why, bh, by],\n",
    "                                      [dWxh, dWhh, dWhy, dbh, dby],\n",
    "                                      [mWxh, mWhh, mWhy, mbh, mby]):\n",
    "            mem += dparam * dparam\n",
    "            param += -learning_rate * dparam / np.sqrt(mem + 1e-8)  # adagrad update\n",
    "\n",
    "        p += seq_length  # move data pointer\n",
    "        n += 1  # iteration counter"
   ]
  },
  {
   "cell_type": "markdown",
   "metadata": {},
   "source": [
    "Here's our entire pipline put together:"
   ]
  },
  {
   "cell_type": "code",
   "execution_count": null,
   "metadata": {},
   "outputs": [],
   "source": [
    "#load data:\n",
    "data, words, vocab_size = data_input(corpus_texts)\n",
    "\n",
    "#encode data:\n",
    "word_to_ix, ix_to_word = gen_mapping(words)\n",
    "\n",
    "#set hyperparameters\n",
    "hidden_size, seq_length, learning_rate = set_hyperparams()\n",
    "\n",
    "#set model parameters\n",
    "Wxh, Whh, Why, bh, by = set_model_params(hidden_size, vocab_size)\n",
    "\n",
    "#return model samples\n",
    "iterate_and_sample()"
   ]
  },
  {
   "cell_type": "markdown",
   "metadata": {},
   "source": [
    "These results look pretty decent, considering the very small size of our corpus!"
   ]
  },
  {
   "cell_type": "markdown",
   "metadata": {},
   "source": [
    "# Exercises\n",
    "\n",
    "These exercise prompts are meant to be starting points to encourage your own research and exploration. Choose whichever one(s) interest you most!\n",
    "\n",
    "1. Use requests, BeautifulSoup, and the Wikipedia API to scrape a corpus of pages of your chosing. Here's a Python wrapper: https://pypi.org/project/Wikipedia-API/. Perform some preprocessing and make a few graphs.\n",
    "2. Extend/modify our preprocessing function. Should it handle data in different formats? Should it perform stemming/lemmatization? \n",
    "3. Write your own function to generate n-grams, and graph the top n-grams for various n.\n",
    "4. Write your own rules-based poetry generator. You could try using the parts of speech dictionaries, or NLTK's 'similar' words.\n",
    "5. Try running the RNN after preprocessing our corpus, or try modifying the hyperparameters.\n",
    "6. Train word2vec models (https://radimrehurek.com/gensim/models/word2vec.html) using our corpus, and look at word similarities."
   ]
  }
 ],
 "metadata": {
  "colab": {
   "name": "nlp with python.ipynb",
   "provenance": [],
   "toc_visible": true
  },
  "kernelspec": {
   "display_name": "Python 3",
   "language": "python",
   "name": "python3"
  },
  "language_info": {
   "codemirror_mode": {
    "name": "ipython",
    "version": 3
   },
   "file_extension": ".py",
   "mimetype": "text/x-python",
   "name": "python",
   "nbconvert_exporter": "python",
   "pygments_lexer": "ipython3",
   "version": "3.7.3"
  }
 },
 "nbformat": 4,
 "nbformat_minor": 4
}
